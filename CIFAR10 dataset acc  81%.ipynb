{
 "cells": [
  {
   "cell_type": "code",
   "execution_count": 1,
   "id": "7fe77aa0",
   "metadata": {},
   "outputs": [],
   "source": [
    "import numpy as np\n",
    "import pandas as pd \n",
    "import tensorflow as tf\n",
    "from tensorflow.keras.layers import Dense, Conv2D, Flatten, Dropout, MaxPool2D\n",
    "from tensorflow.keras import datasets\n",
    "from tensorflow.keras.models import Sequential \n",
    "import matplotlib.pyplot as plt\n",
    "from keras.utils.np_utils import to_categorical\n",
    "from sklearn.model_selection import train_test_split\n",
    "from tensorflow.keras.optimizers import RMSprop\n",
    "from keras.preprocessing.image import ImageDataGenerator\n",
    "from keras.callbacks import ReduceLROnPlateau\n",
    "gpu_options = tf.compat.v1.GPUOptions(per_process_gpu_memory_fraction = 0.999)\n",
    "sess =  tf.compat.v1.Session(config = tf.compat.v1.ConfigProto(gpu_options = gpu_options))\n",
    "from tensorflow.keras import datasets, layers, models\n"
   ]
  },
  {
   "cell_type": "code",
   "execution_count": 2,
   "id": "b7677be7",
   "metadata": {},
   "outputs": [],
   "source": [
    "(X_train, Y_train), (X_test, Y_test) = datasets.cifar10.load_data()"
   ]
  },
  {
   "cell_type": "code",
   "execution_count": 3,
   "id": "87129acf",
   "metadata": {},
   "outputs": [],
   "source": [
    "classes = ['airpalne', 'automobile', 'bird', 'cat', 'deer', 'dog', 'froge', 'horse', 'ship', 'truck']"
   ]
  },
  {
   "cell_type": "code",
   "execution_count": 4,
   "id": "bf848b78",
   "metadata": {},
   "outputs": [],
   "source": [
    "X_train = X_train/255.0\n",
    "X_test = X_test/255.0\n"
   ]
  },
  {
   "cell_type": "code",
   "execution_count": null,
   "id": "ef0effe2",
   "metadata": {},
   "outputs": [],
   "source": [
    "#Y_train = to_categorical(Y_train, num_classes = 10)\n",
    "#Y_test = to_categorical(Y_test, num_classes = 10)\n"
   ]
  },
  {
   "cell_type": "code",
   "execution_count": 5,
   "id": "449f7e4e",
   "metadata": {},
   "outputs": [
    {
     "data": {
      "text/plain": [
       "(50000, 32, 32, 3)"
      ]
     },
     "execution_count": 5,
     "metadata": {},
     "output_type": "execute_result"
    }
   ],
   "source": [
    "X_train.shape"
   ]
  },
  {
   "cell_type": "code",
   "execution_count": 9,
   "id": "b21ead13",
   "metadata": {},
   "outputs": [],
   "source": [
    "X_train, X_test, Y_train, Y_test = train_test_split(X_train,Y_train,test_size = 0.1,random_state = 22)"
   ]
  },
  {
   "cell_type": "code",
   "execution_count": 12,
   "id": "c800f183",
   "metadata": {},
   "outputs": [],
   "source": [
    "model = Sequential()\n",
    "\n",
    "model.add(Conv2D(32,(3,3),activation = 'relu',input_shape = (32,32,3)))\n",
    "model.add(Conv2D(32,(3,3),activation = 'relu'))\n",
    "model.add(MaxPool2D(pool_size=(2,2)))\n",
    "#model.add(Dropout(0.25))\n",
    "\n",
    "model.add(Conv2D(64,(3,3),activation = 'relu'))\n",
    "#model.add(Conv2D(64,(5,5),padding='same',activation = 'relu'))\n",
    "model.add(MaxPool2D(pool_size=(2,2)))\n",
    "#model.add(Dropout(0.25))\n",
    "\n",
    "\n",
    "model.add(Flatten())\n",
    "model.add(Dense(64, activation = \"relu\"))\n",
    "#model.add(Dropout(0.5))\n",
    "model.add(Dense(10, activation = \"softmax\"))\n",
    "\n",
    "\n",
    "\n",
    "optimizer = RMSprop(lr=0.001, rho=0.9, epsilon=1e-08, decay=0.0)\n",
    "\n",
    "model.compile(optimizer = 'adam' , loss = \"sparse_categorical_crossentropy\", metrics=[\"accuracy\"])\n",
    "\n",
    "\n",
    "learning_rate_reduction = ReduceLROnPlateau(monitor='val_acc', \n",
    "                                            patience=3, \n",
    "                                            verbose=1, \n",
    "                                            factor=0.5, \n",
    "                                            min_lr=0.00001)\n",
    "\n",
    "epochs = 10 \n",
    "batch_size = 30\n",
    "\n",
    "\n",
    "\n"
   ]
  },
  {
   "cell_type": "code",
   "execution_count": 13,
   "id": "a23a5fc3",
   "metadata": {},
   "outputs": [
    {
     "name": "stdout",
     "output_type": "stream",
     "text": [
      "Epoch 1/10\n",
      "1500/1500 [==============================] - 46s 30ms/step - loss: 1.4736 - accuracy: 0.4676 - val_loss: 1.2577 - val_accuracy: 0.5594\n",
      "Epoch 2/10\n",
      "1500/1500 [==============================] - 45s 30ms/step - loss: 1.0762 - accuracy: 0.6204 - val_loss: 1.0157 - val_accuracy: 0.6392\n",
      "Epoch 3/10\n",
      "1500/1500 [==============================] - 45s 30ms/step - loss: 0.9233 - accuracy: 0.6773 - val_loss: 0.9230 - val_accuracy: 0.6728\n",
      "Epoch 4/10\n",
      "1500/1500 [==============================] - 46s 31ms/step - loss: 0.8253 - accuracy: 0.7135 - val_loss: 0.9123 - val_accuracy: 0.6820\n",
      "Epoch 5/10\n",
      "1500/1500 [==============================] - 46s 30ms/step - loss: 0.7531 - accuracy: 0.7375 - val_loss: 0.8500 - val_accuracy: 0.7044\n",
      "Epoch 6/10\n",
      "1500/1500 [==============================] - 46s 30ms/step - loss: 0.6863 - accuracy: 0.7607 - val_loss: 0.8821 - val_accuracy: 0.7010\n",
      "Epoch 7/10\n",
      "1500/1500 [==============================] - 46s 31ms/step - loss: 0.6303 - accuracy: 0.7816 - val_loss: 0.8417 - val_accuracy: 0.7130\n",
      "Epoch 8/10\n",
      "1500/1500 [==============================] - 46s 31ms/step - loss: 0.5867 - accuracy: 0.7948 - val_loss: 0.8440 - val_accuracy: 0.7182\n",
      "Epoch 9/10\n",
      "1500/1500 [==============================] - 46s 31ms/step - loss: 0.5432 - accuracy: 0.8100 - val_loss: 0.8303 - val_accuracy: 0.7142\n",
      "Epoch 10/10\n",
      "1500/1500 [==============================] - 45s 30ms/step - loss: 0.5037 - accuracy: 0.8217 - val_loss: 0.8761 - val_accuracy: 0.7168\n"
     ]
    },
    {
     "data": {
      "text/plain": [
       "<keras.callbacks.History at 0x2348e266a30>"
      ]
     },
     "execution_count": 13,
     "metadata": {},
     "output_type": "execute_result"
    }
   ],
   "source": [
    "model.fit(X_train, Y_train, batch_size = batch_size, epochs = epochs, \n",
    "                    validation_data = (X_test, Y_test))"
   ]
  }
 ],
 "metadata": {
  "kernelspec": {
   "display_name": "Python 3 (ipykernel)",
   "language": "python",
   "name": "python3"
  },
  "language_info": {
   "codemirror_mode": {
    "name": "ipython",
    "version": 3
   },
   "file_extension": ".py",
   "mimetype": "text/x-python",
   "name": "python",
   "nbconvert_exporter": "python",
   "pygments_lexer": "ipython3",
   "version": "3.9.7"
  }
 },
 "nbformat": 4,
 "nbformat_minor": 5
}
